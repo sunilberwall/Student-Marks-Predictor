{
 "cells": [
  {
   "cell_type": "markdown",
   "id": "cbe6df98",
   "metadata": {},
   "source": [
    "#                                              Student Marks Predictor"
   ]
  },
  {
   "cell_type": "markdown",
   "id": "26cef48f",
   "metadata": {},
   "source": [
    "## 1. Business Problem"
   ]
  },
  {
   "cell_type": "markdown",
   "id": "39974013",
   "metadata": {},
   "source": [
    "### predict the percentage of an student based on the no. of study hours."
   ]
  },
  {
   "cell_type": "markdown",
   "id": "20b4b9ac",
   "metadata": {},
   "source": [
    "## 1.1 Description"
   ]
  },
  {
   "cell_type": "markdown",
   "id": "14162f61",
   "metadata": {},
   "source": [
    "#### With the help of this predictor you can find out the marks of students according their study hours. "
   ]
  },
  {
   "cell_type": "markdown",
   "id": "3b7ebe6a",
   "metadata": {},
   "source": [
    "## 2. Machine learning problem"
   ]
  },
  {
   "cell_type": "markdown",
   "id": "4e83e748",
   "metadata": {},
   "source": [
    "### 2.1 data"
   ]
  },
  {
   "cell_type": "markdown",
   "id": "38a39881",
   "metadata": {},
   "source": [
    "data file name :-  student_info.csv\n",
    "\n",
    "size of data :- 2.4 kB\n",
    "\n",
    "source file's link:- https://drive.google.com/file/d/1gebOloJzZSQbbfrsLKbTKaM6AFz3PPZ4/view?usp=sharing\n",
    "\n",
    "\n"
   ]
  },
  {
   "cell_type": "markdown",
   "id": "97b5f6a3",
   "metadata": {},
   "source": [
    "## 3. Type of machine learning problem"
   ]
  },
  {
   "cell_type": "markdown",
   "id": "81176848",
   "metadata": {},
   "source": [
    "It is a Regression problem where we find out real interger numbers."
   ]
  },
  {
   "cell_type": "markdown",
   "id": "639a1744",
   "metadata": {},
   "source": [
    "## 4. Exploratory Data Analysis"
   ]
  },
  {
   "cell_type": "code",
   "execution_count": 1,
   "id": "d2341a48",
   "metadata": {},
   "outputs": [],
   "source": [
    "import numpy as np\n",
    "import pandas as pd\n",
    "import seaborn as sns\n",
    "import matplotlib.pyplot as plt\n",
    "from sklearn.linear_model import LinearRegression\n",
    "from sklearn.model_selection import train_test_split\n",
    "import joblib\n",
    "from sklearn import svm"
   ]
  },
  {
   "cell_type": "markdown",
   "id": "5bcd51e2",
   "metadata": {},
   "source": [
    "### 4.1 Reading data and basic stats"
   ]
  },
  {
   "cell_type": "code",
   "execution_count": 2,
   "id": "fa4bd43f",
   "metadata": {},
   "outputs": [
    {
     "name": "stdout",
     "output_type": "stream",
     "text": [
      "Number of data points: 200\n"
     ]
    }
   ],
   "source": [
    "data=pd.read_csv(\"student_info.csv\")\n",
    "print(\"Number of data points:\",data.shape[0])"
   ]
  },
  {
   "cell_type": "code",
   "execution_count": 3,
   "id": "68a824ce",
   "metadata": {},
   "outputs": [
    {
     "data": {
      "text/html": [
       "<div>\n",
       "<style scoped>\n",
       "    .dataframe tbody tr th:only-of-type {\n",
       "        vertical-align: middle;\n",
       "    }\n",
       "\n",
       "    .dataframe tbody tr th {\n",
       "        vertical-align: top;\n",
       "    }\n",
       "\n",
       "    .dataframe thead th {\n",
       "        text-align: right;\n",
       "    }\n",
       "</style>\n",
       "<table border=\"1\" class=\"dataframe\">\n",
       "  <thead>\n",
       "    <tr style=\"text-align: right;\">\n",
       "      <th></th>\n",
       "      <th>study_hours</th>\n",
       "      <th>student_marks</th>\n",
       "    </tr>\n",
       "  </thead>\n",
       "  <tbody>\n",
       "    <tr>\n",
       "      <th>0</th>\n",
       "      <td>6.83</td>\n",
       "      <td>78.50</td>\n",
       "    </tr>\n",
       "    <tr>\n",
       "      <th>1</th>\n",
       "      <td>6.56</td>\n",
       "      <td>76.74</td>\n",
       "    </tr>\n",
       "    <tr>\n",
       "      <th>2</th>\n",
       "      <td>NaN</td>\n",
       "      <td>78.68</td>\n",
       "    </tr>\n",
       "    <tr>\n",
       "      <th>3</th>\n",
       "      <td>5.67</td>\n",
       "      <td>71.82</td>\n",
       "    </tr>\n",
       "    <tr>\n",
       "      <th>4</th>\n",
       "      <td>8.67</td>\n",
       "      <td>84.19</td>\n",
       "    </tr>\n",
       "    <tr>\n",
       "      <th>5</th>\n",
       "      <td>7.55</td>\n",
       "      <td>81.18</td>\n",
       "    </tr>\n",
       "    <tr>\n",
       "      <th>6</th>\n",
       "      <td>6.67</td>\n",
       "      <td>76.99</td>\n",
       "    </tr>\n",
       "    <tr>\n",
       "      <th>7</th>\n",
       "      <td>8.99</td>\n",
       "      <td>85.46</td>\n",
       "    </tr>\n",
       "    <tr>\n",
       "      <th>8</th>\n",
       "      <td>5.19</td>\n",
       "      <td>70.66</td>\n",
       "    </tr>\n",
       "    <tr>\n",
       "      <th>9</th>\n",
       "      <td>6.75</td>\n",
       "      <td>77.82</td>\n",
       "    </tr>\n",
       "  </tbody>\n",
       "</table>\n",
       "</div>"
      ],
      "text/plain": [
       "   study_hours  student_marks\n",
       "0         6.83          78.50\n",
       "1         6.56          76.74\n",
       "2          NaN          78.68\n",
       "3         5.67          71.82\n",
       "4         8.67          84.19\n",
       "5         7.55          81.18\n",
       "6         6.67          76.99\n",
       "7         8.99          85.46\n",
       "8         5.19          70.66\n",
       "9         6.75          77.82"
      ]
     },
     "execution_count": 3,
     "metadata": {},
     "output_type": "execute_result"
    }
   ],
   "source": [
    "data.head(10)"
   ]
  },
  {
   "cell_type": "code",
   "execution_count": 4,
   "id": "a70208d7",
   "metadata": {},
   "outputs": [
    {
     "name": "stdout",
     "output_type": "stream",
     "text": [
      "<class 'pandas.core.frame.DataFrame'>\n",
      "RangeIndex: 200 entries, 0 to 199\n",
      "Data columns (total 2 columns):\n",
      " #   Column         Non-Null Count  Dtype  \n",
      "---  ------         --------------  -----  \n",
      " 0   study_hours    195 non-null    float64\n",
      " 1   student_marks  200 non-null    float64\n",
      "dtypes: float64(2)\n",
      "memory usage: 3.2 KB\n"
     ]
    }
   ],
   "source": [
    "data.info()"
   ]
  },
  {
   "cell_type": "code",
   "execution_count": 5,
   "id": "f52dc2aa",
   "metadata": {},
   "outputs": [
    {
     "data": {
      "text/html": [
       "<div>\n",
       "<style scoped>\n",
       "    .dataframe tbody tr th:only-of-type {\n",
       "        vertical-align: middle;\n",
       "    }\n",
       "\n",
       "    .dataframe tbody tr th {\n",
       "        vertical-align: top;\n",
       "    }\n",
       "\n",
       "    .dataframe thead th {\n",
       "        text-align: right;\n",
       "    }\n",
       "</style>\n",
       "<table border=\"1\" class=\"dataframe\">\n",
       "  <thead>\n",
       "    <tr style=\"text-align: right;\">\n",
       "      <th></th>\n",
       "      <th>study_hours</th>\n",
       "      <th>student_marks</th>\n",
       "    </tr>\n",
       "  </thead>\n",
       "  <tbody>\n",
       "    <tr>\n",
       "      <th>count</th>\n",
       "      <td>195.000000</td>\n",
       "      <td>200.00000</td>\n",
       "    </tr>\n",
       "    <tr>\n",
       "      <th>mean</th>\n",
       "      <td>6.995949</td>\n",
       "      <td>77.93375</td>\n",
       "    </tr>\n",
       "    <tr>\n",
       "      <th>std</th>\n",
       "      <td>1.253060</td>\n",
       "      <td>4.92570</td>\n",
       "    </tr>\n",
       "    <tr>\n",
       "      <th>min</th>\n",
       "      <td>5.010000</td>\n",
       "      <td>68.57000</td>\n",
       "    </tr>\n",
       "    <tr>\n",
       "      <th>25%</th>\n",
       "      <td>5.775000</td>\n",
       "      <td>73.38500</td>\n",
       "    </tr>\n",
       "    <tr>\n",
       "      <th>50%</th>\n",
       "      <td>7.120000</td>\n",
       "      <td>77.71000</td>\n",
       "    </tr>\n",
       "    <tr>\n",
       "      <th>75%</th>\n",
       "      <td>8.085000</td>\n",
       "      <td>82.32000</td>\n",
       "    </tr>\n",
       "    <tr>\n",
       "      <th>max</th>\n",
       "      <td>8.990000</td>\n",
       "      <td>86.99000</td>\n",
       "    </tr>\n",
       "  </tbody>\n",
       "</table>\n",
       "</div>"
      ],
      "text/plain": [
       "       study_hours  student_marks\n",
       "count   195.000000      200.00000\n",
       "mean      6.995949       77.93375\n",
       "std       1.253060        4.92570\n",
       "min       5.010000       68.57000\n",
       "25%       5.775000       73.38500\n",
       "50%       7.120000       77.71000\n",
       "75%       8.085000       82.32000\n",
       "max       8.990000       86.99000"
      ]
     },
     "execution_count": 5,
     "metadata": {},
     "output_type": "execute_result"
    }
   ],
   "source": [
    "data.describe()"
   ]
  },
  {
   "cell_type": "markdown",
   "id": "d7058f67",
   "metadata": {},
   "source": [
    "#### checking for null values"
   ]
  },
  {
   "cell_type": "code",
   "execution_count": 6,
   "id": "c67ee47d",
   "metadata": {},
   "outputs": [
    {
     "data": {
      "text/plain": [
       "study_hours      5\n",
       "student_marks    0\n",
       "dtype: int64"
      ]
     },
     "execution_count": 6,
     "metadata": {},
     "output_type": "execute_result"
    }
   ],
   "source": [
    "data.isnull().sum()"
   ]
  },
  {
   "cell_type": "markdown",
   "id": "24e70c33",
   "metadata": {},
   "source": [
    "##### Replace all the null values with mean value."
   ]
  },
  {
   "cell_type": "code",
   "execution_count": 7,
   "id": "b5ed5dad",
   "metadata": {},
   "outputs": [],
   "source": [
    "data2=data.fillna(data.mean())"
   ]
  },
  {
   "cell_type": "code",
   "execution_count": 8,
   "id": "134a8f2f",
   "metadata": {},
   "outputs": [
    {
     "data": {
      "text/plain": [
       "study_hours      0\n",
       "student_marks    0\n",
       "dtype: int64"
      ]
     },
     "execution_count": 8,
     "metadata": {},
     "output_type": "execute_result"
    }
   ],
   "source": [
    " data2.isnull().sum()"
   ]
  },
  {
   "cell_type": "code",
   "execution_count": 9,
   "id": "1a295a97",
   "metadata": {},
   "outputs": [
    {
     "data": {
      "image/png": "[encoded data removed]",
      "text/plain": [
       "<Figure size 432x288 with 1 Axes>"
      ]
     },
     "metadata": {
      "needs_background": "light"
     },
     "output_type": "display_data"
    }
   ],
   "source": [
    "sns.lineplot(x=\"study_hours\",y=\"student_marks\",data=data2)\n",
    "plt.show()"
   ]
  },
  {
   "cell_type": "code",
   "execution_count": 10,
   "id": "f018cccb",
   "metadata": {},
   "outputs": [
    {
     "name": "stderr",
     "output_type": "stream",
     "text": [
      "/home/sunil/anaconda3/lib/python3.8/site-packages/seaborn/distributions.py:2557: FutureWarning: `distplot` is a deprecated function and will be removed in a future version. Please adapt your code to use either `displot` (a figure-level function with similar flexibility) or `histplot` (an axes-level function for histograms).\n",
      "  warnings.warn(msg, FutureWarning)\n"
     ]
    },
    {
     "data": {
      "image/png": "[encoded data removed]",
      "text/plain": [
       "<Figure size 432x288 with 1 Axes>"
      ]
     },
     "metadata": {
      "needs_background": "light"
     },
     "output_type": "display_data"
    }
   ],
   "source": [
    "sns.distplot(data2[\"study_hours\"])\n",
    "plt.show()"
   ]
  },
  {
   "cell_type": "code",
   "execution_count": 11,
   "id": "f8798ea5",
   "metadata": {},
   "outputs": [
    {
     "name": "stderr",
     "output_type": "stream",
     "text": [
      "/home/sunil/anaconda3/lib/python3.8/site-packages/seaborn/distributions.py:2557: FutureWarning: `distplot` is a deprecated function and will be removed in a future version. Please adapt your code to use either `displot` (a figure-level function with similar flexibility) or `histplot` (an axes-level function for histograms).\n",
      "  warnings.warn(msg, FutureWarning)\n"
     ]
    },
    {
     "data": {
      "image/png": "[encoded data removed]",
      "text/plain": [
       "<Figure size 432x288 with 1 Axes>"
      ]
     },
     "metadata": {
      "needs_background": "light"
     },
     "output_type": "display_data"
    }
   ],
   "source": [
    "sns.distplot(data2[\"student_marks\"])\n",
    "plt.show()"
   ]
  },
  {
   "cell_type": "code",
   "execution_count": 12,
   "id": "6112e0ae",
   "metadata": {},
   "outputs": [
    {
     "data": {
      "text/plain": [
       "<AxesSubplot:xlabel='study_hours', ylabel='student_marks'>"
      ]
     },
     "execution_count": 12,
     "metadata": {},
     "output_type": "execute_result"
    },
    {
     "data": {
      "image/png": "[encoded data removed]",
      "text/plain": [
       "<Figure size 432x288 with 1 Axes>"
      ]
     },
     "metadata": {
      "needs_background": "light"
     },
     "output_type": "display_data"
    }
   ],
   "source": [
    "sns.scatterplot(x=\"study_hours\",y=\"student_marks\",data=data2)"
   ]
  },
  {
   "cell_type": "markdown",
   "id": "8bf6f6a3",
   "metadata": {},
   "source": [
    "### split dataset for training"
   ]
  },
  {
   "cell_type": "code",
   "execution_count": 13,
   "id": "fffb1291",
   "metadata": {},
   "outputs": [
    {
     "name": "stdout",
     "output_type": "stream",
     "text": [
      "shape of x (200, 1)\n",
      "shape of y (200, 1)\n"
     ]
    }
   ],
   "source": [
    "x=data2.drop(\"student_marks\", axis=\"columns\")\n",
    "y=data2.drop(\"study_hours\",axis=\"columns\")\n",
    "print(\"shape of x\",x.shape)\n",
    "print(\"shape of y\", y.shape)"
   ]
  },
  {
   "cell_type": "code",
   "execution_count": 14,
   "id": "1c91116b",
   "metadata": {},
   "outputs": [],
   "source": [
    "X_train,X_test,Y_train,Y_test=train_test_split(x,y,test_size=0.2, random_state=51)"
   ]
  },
  {
   "cell_type": "code",
   "execution_count": 15,
   "id": "b43de20c",
   "metadata": {},
   "outputs": [
    {
     "name": "stdout",
     "output_type": "stream",
     "text": [
      "shape of X Train (160, 1)\n",
      "shape of Y Train (160, 1)\n",
      "shape of X Test (40, 1)\n",
      "shape of Y Test (40, 1)\n"
     ]
    }
   ],
   "source": [
    "print(\"shape of X Train\",X_train.shape)\n",
    "print(\"shape of Y Train\",Y_train.shape)\n",
    "print(\"shape of X Test\", X_test.shape)\n",
    "print(\"shape of Y Test\",Y_test.shape)"
   ]
  },
  {
   "cell_type": "markdown",
   "id": "d594e8b2",
   "metadata": {},
   "source": [
    "### LinearRegression validation"
   ]
  },
  {
   "cell_type": "code",
   "execution_count": 16,
   "id": "3e2b82df",
   "metadata": {},
   "outputs": [],
   "source": [
    "lr=LinearRegression()"
   ]
  },
  {
   "cell_type": "code",
   "execution_count": 17,
   "id": "989f58a9",
   "metadata": {},
   "outputs": [
    {
     "data": {
      "text/plain": [
       "LinearRegression()"
      ]
     },
     "execution_count": 17,
     "metadata": {},
     "output_type": "execute_result"
    }
   ],
   "source": [
    "lr.fit(X_train,Y_train)"
   ]
  },
  {
   "cell_type": "markdown",
   "id": "7a1929ef",
   "metadata": {},
   "source": [
    "I saved the model's coef_ and intercept in afile,so again i restart my program,and it will start from where it last time executed,and it will run till the last."
   ]
  },
  {
   "cell_type": "code",
   "execution_count": 18,
   "id": "ce8e180b",
   "metadata": {},
   "outputs": [
    {
     "data": {
      "text/plain": [
       "array([[3.93571802]])"
      ]
     },
     "execution_count": 18,
     "metadata": {},
     "output_type": "execute_result"
    }
   ],
   "source": [
    "lr.coef_"
   ]
  },
  {
   "cell_type": "code",
   "execution_count": 19,
   "id": "510d8229",
   "metadata": {},
   "outputs": [
    {
     "data": {
      "text/plain": [
       "array([50.44735504])"
      ]
     },
     "execution_count": 19,
     "metadata": {},
     "output_type": "execute_result"
    }
   ],
   "source": [
    "lr.intercept_"
   ]
  },
  {
   "cell_type": "code",
   "execution_count": 20,
   "id": "4f6ebad5",
   "metadata": {},
   "outputs": [
    {
     "data": {
      "text/plain": [
       "97.6"
      ]
     },
     "execution_count": 20,
     "metadata": {},
     "output_type": "execute_result"
    }
   ],
   "source": [
    " m= 3.93\n",
    " c= 50.44\n",
    " y= m*12+c\n",
    " y"
   ]
  },
  {
   "cell_type": "code",
   "execution_count": 21,
   "id": "ffc050ae",
   "metadata": {},
   "outputs": [
    {
     "data": {
      "text/plain": [
       "66.19"
      ]
     },
     "execution_count": 21,
     "metadata": {},
     "output_type": "execute_result"
    }
   ],
   "source": [
    "lr.predict([[4]])[0][0].round(2)"
   ]
  },
  {
   "cell_type": "code",
   "execution_count": 22,
   "id": "65c49aaa",
   "metadata": {},
   "outputs": [
    {
     "data": {
      "text/plain": [
       "array([[83.11381458],\n",
       "       [78.9025963 ],\n",
       "       [84.57003024],\n",
       "       [85.82946001],\n",
       "       [84.72745896],\n",
       "       [80.75238377],\n",
       "       [72.84159055],\n",
       "       [71.66087515],\n",
       "       [73.23516235],\n",
       "       [71.66087515],\n",
       "       [73.47130543],\n",
       "       [76.38373677],\n",
       "       [73.23516235],\n",
       "       [73.58937697],\n",
       "       [82.95638585],\n",
       "       [70.40144538],\n",
       "       [73.23516235],\n",
       "       [78.74516758],\n",
       "       [75.55723598],\n",
       "       [82.68088559],\n",
       "       [76.65923703],\n",
       "       [70.48015974],\n",
       "       [74.77009238],\n",
       "       [77.98143645],\n",
       "       [85.59331693],\n",
       "       [82.56281405],\n",
       "       [76.42309395],\n",
       "       [85.0423164 ],\n",
       "       [78.39095296],\n",
       "       [81.38209865],\n",
       "       [81.73631327],\n",
       "       [83.15317176],\n",
       "       [82.20859943],\n",
       "       [81.10659839],\n",
       "       [73.58937697],\n",
       "       [71.1492318 ],\n",
       "       [71.89701823],\n",
       "       [81.53952737],\n",
       "       [72.60544747],\n",
       "       [71.93637541]])"
      ]
     },
     "execution_count": 22,
     "metadata": {},
     "output_type": "execute_result"
    }
   ],
   "source": [
    "y_pred=lr.predict(X_test)\n",
    "y_pred"
   ]
  },
  {
   "cell_type": "code",
   "execution_count": 23,
   "id": "bddcc980",
   "metadata": {},
   "outputs": [],
   "source": [
    "feature_data=pd.DataFrame(np.c_[X_test,Y_test,y_pred], columns=[\"study_hours\",\"student_marks_original\",\"student_marks_predicted\"])"
   ]
  },
  {
   "cell_type": "code",
   "execution_count": 24,
   "id": "25d35351",
   "metadata": {},
   "outputs": [
    {
     "data": {
      "text/html": [
       "<div>\n",
       "<style scoped>\n",
       "    .dataframe tbody tr th:only-of-type {\n",
       "        vertical-align: middle;\n",
       "    }\n",
       "\n",
       "    .dataframe tbody tr th {\n",
       "        vertical-align: top;\n",
       "    }\n",
       "\n",
       "    .dataframe thead th {\n",
       "        text-align: right;\n",
       "    }\n",
       "</style>\n",
       "<table border=\"1\" class=\"dataframe\">\n",
       "  <thead>\n",
       "    <tr style=\"text-align: right;\">\n",
       "      <th></th>\n",
       "      <th>study_hours</th>\n",
       "      <th>student_marks_original</th>\n",
       "      <th>student_marks_predicted</th>\n",
       "    </tr>\n",
       "  </thead>\n",
       "  <tbody>\n",
       "    <tr>\n",
       "      <th>0</th>\n",
       "      <td>8.30</td>\n",
       "      <td>82.02</td>\n",
       "      <td>83.113815</td>\n",
       "    </tr>\n",
       "    <tr>\n",
       "      <th>1</th>\n",
       "      <td>7.23</td>\n",
       "      <td>77.55</td>\n",
       "      <td>78.902596</td>\n",
       "    </tr>\n",
       "    <tr>\n",
       "      <th>2</th>\n",
       "      <td>8.67</td>\n",
       "      <td>84.19</td>\n",
       "      <td>84.570030</td>\n",
       "    </tr>\n",
       "    <tr>\n",
       "      <th>3</th>\n",
       "      <td>8.99</td>\n",
       "      <td>85.46</td>\n",
       "      <td>85.829460</td>\n",
       "    </tr>\n",
       "    <tr>\n",
       "      <th>4</th>\n",
       "      <td>8.71</td>\n",
       "      <td>84.03</td>\n",
       "      <td>84.727459</td>\n",
       "    </tr>\n",
       "    <tr>\n",
       "      <th>5</th>\n",
       "      <td>7.70</td>\n",
       "      <td>80.81</td>\n",
       "      <td>80.752384</td>\n",
       "    </tr>\n",
       "    <tr>\n",
       "      <th>6</th>\n",
       "      <td>5.69</td>\n",
       "      <td>73.61</td>\n",
       "      <td>72.841591</td>\n",
       "    </tr>\n",
       "    <tr>\n",
       "      <th>7</th>\n",
       "      <td>5.39</td>\n",
       "      <td>70.90</td>\n",
       "      <td>71.660875</td>\n",
       "    </tr>\n",
       "    <tr>\n",
       "      <th>8</th>\n",
       "      <td>5.79</td>\n",
       "      <td>73.14</td>\n",
       "      <td>73.235162</td>\n",
       "    </tr>\n",
       "    <tr>\n",
       "      <th>9</th>\n",
       "      <td>5.39</td>\n",
       "      <td>73.02</td>\n",
       "      <td>71.660875</td>\n",
       "    </tr>\n",
       "  </tbody>\n",
       "</table>\n",
       "</div>"
      ],
      "text/plain": [
       "   study_hours  student_marks_original  student_marks_predicted\n",
       "0         8.30                   82.02                83.113815\n",
       "1         7.23                   77.55                78.902596\n",
       "2         8.67                   84.19                84.570030\n",
       "3         8.99                   85.46                85.829460\n",
       "4         8.71                   84.03                84.727459\n",
       "5         7.70                   80.81                80.752384\n",
       "6         5.69                   73.61                72.841591\n",
       "7         5.39                   70.90                71.660875\n",
       "8         5.79                   73.14                73.235162\n",
       "9         5.39                   73.02                71.660875"
      ]
     },
     "execution_count": 24,
     "metadata": {},
     "output_type": "execute_result"
    }
   ],
   "source": [
    "feature_data.head(10)"
   ]
  },
  {
   "cell_type": "markdown",
   "id": "7f31c4bd",
   "metadata": {},
   "source": [
    "### Accuracy of model"
   ]
  },
  {
   "cell_type": "code",
   "execution_count": 25,
   "id": "e9176bca",
   "metadata": {},
   "outputs": [
    {
     "name": "stdout",
     "output_type": "stream",
     "text": [
      "95.14124242154463%\n"
     ]
    }
   ],
   "source": [
    "print(f\"{lr.score(X_test,Y_test)*100}%\")"
   ]
  },
  {
   "cell_type": "code",
   "execution_count": 26,
   "id": "bb602fff",
   "metadata": {},
   "outputs": [
    {
     "data": {
      "text/plain": [
       "[<matplotlib.lines.Line2D at 0x7fdac07c9100>]"
      ]
     },
     "execution_count": 26,
     "metadata": {},
     "output_type": "execute_result"
    },
    {
     "data": {
      "image/png": "[encoded data removed]",
      "text/plain": [
       "<Figure size 432x288 with 1 Axes>"
      ]
     },
     "metadata": {
      "needs_background": "light"
     },
     "output_type": "display_data"
    }
   ],
   "source": [
    "plt.scatter(X_test,Y_test)\n",
    "plt.plot(X_train,lr.predict(X_train),color=\"red\")"
   ]
  },
  {
   "cell_type": "markdown",
   "id": "5e145322",
   "metadata": {},
   "source": [
    "# output / solution"
   ]
  },
  {
   "cell_type": "code",
   "execution_count": 27,
   "id": "8c947fc5",
   "metadata": {},
   "outputs": [
    {
     "data": {
      "text/plain": [
       "['Student_Marks_Predictor.pkl']"
      ]
     },
     "execution_count": 27,
     "metadata": {},
     "output_type": "execute_result"
    }
   ],
   "source": [
    "joblib.dump(lr,\"Student_Marks_Predictor.pkl\")"
   ]
  },
  {
   "cell_type": "code",
   "execution_count": 28,
   "id": "fe73f3dd",
   "metadata": {},
   "outputs": [],
   "source": [
    "model=joblib.load(\"Student_Marks_Predictor.pkl\")"
   ]
  },
  {
   "cell_type": "code",
   "execution_count": 29,
   "id": "9c4478bb",
   "metadata": {},
   "outputs": [
    {
     "data": {
      "text/plain": [
       "array([[97.67597124]])"
      ]
     },
     "execution_count": 29,
     "metadata": {},
     "output_type": "execute_result"
    }
   ],
   "source": [
    "model.predict([[12]]) #it is showing student's mark according to no. of study hour"
   ]
  }
 ],
 "metadata": {
  "kernelspec": {
   "display_name": "Python 3",
   "language": "python",
   "name": "python3"
  },
  "language_info": {
   "codemirror_mode": {
    "name": "ipython",
    "version": 3
   },
   "file_extension": ".py",
   "mimetype": "text/x-python",
   "name": "python",
   "nbconvert_exporter": "python",
   "pygments_lexer": "ipython3",
   "version": "3.8.8"
  }
 },
 "nbformat": 4,
 "nbformat_minor": 5
}
